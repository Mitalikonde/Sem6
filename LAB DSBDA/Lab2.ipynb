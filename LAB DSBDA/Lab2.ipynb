{
 "cells": [
  {
   "cell_type": "code",
   "execution_count": null,
   "id": "e401b838-3ee7-4874-909c-17534723fca3",
   "metadata": {},
   "outputs": [],
   "source": [
    "Create an “Academic performance” dataset of students and perform the following operations using Python.\n",
    "\n",
    "Scan all variables for missing values and inconsistencies. If there are missing values and/or inconsistencies, use any of the suitable techniques to deal with them.\n",
    "Scan all numeric variables for outliers. If there are outliers, use any of the suitable techniques to deal with them.\n",
    "Apply data transformations on at least one of the variables. The purpose of this transformation should be one of the following reasons: to change the scale for better understanding of the variable, to convert a non-linear relation into a linear one, or to decrease the skewness and convert the distribution into a normal distribution. Reason and document your approach properly."
   ]
  },
  {
   "cell_type": "code",
   "execution_count": 15,
   "id": "39619d36-3e7b-4dc8-9f59-5852d1c48ded",
   "metadata": {},
   "outputs": [],
   "source": [
    "#importing python libraries\n",
    "\n",
    "import pandas as pd\n",
    "import seaborn as sns\n",
    "import matplotlib.pyplot as plt\n",
    "import numpy as np"
   ]
  },
  {
   "cell_type": "code",
   "execution_count": 2,
   "id": "5bbf31ed-1b6a-43c0-9dc4-a5e3e2188c9d",
   "metadata": {},
   "outputs": [],
   "source": [
    "# Read the data from the CSV file\n",
    "\n",
    "data = pd.read_csv('data.csv')"
   ]
  },
  {
   "cell_type": "code",
   "execution_count": 3,
   "id": "029d2adc-24bb-4bf8-b483-fb3106d17ab6",
   "metadata": {},
   "outputs": [
    {
     "data": {
      "text/html": [
       "<div>\n",
       "<style scoped>\n",
       "    .dataframe tbody tr th:only-of-type {\n",
       "        vertical-align: middle;\n",
       "    }\n",
       "\n",
       "    .dataframe tbody tr th {\n",
       "        vertical-align: top;\n",
       "    }\n",
       "\n",
       "    .dataframe thead th {\n",
       "        text-align: right;\n",
       "    }\n",
       "</style>\n",
       "<table border=\"1\" class=\"dataframe\">\n",
       "  <thead>\n",
       "    <tr style=\"text-align: right;\">\n",
       "      <th></th>\n",
       "      <th>Roll Number</th>\n",
       "      <th>First Name</th>\n",
       "      <th>Last Name</th>\n",
       "      <th>Mobile Number</th>\n",
       "      <th>CGPA1</th>\n",
       "      <th>CGPA2</th>\n",
       "      <th>age</th>\n",
       "    </tr>\n",
       "  </thead>\n",
       "  <tbody>\n",
       "    <tr>\n",
       "      <th>0</th>\n",
       "      <td>261</td>\n",
       "      <td>Rishi</td>\n",
       "      <td>Gupta</td>\n",
       "      <td>919954629666</td>\n",
       "      <td>9.92</td>\n",
       "      <td>5.06</td>\n",
       "      <td>19</td>\n",
       "    </tr>\n",
       "    <tr>\n",
       "      <th>1</th>\n",
       "      <td>827</td>\n",
       "      <td>Seema</td>\n",
       "      <td>Singh</td>\n",
       "      <td>919085484267</td>\n",
       "      <td>0.22</td>\n",
       "      <td>2.83</td>\n",
       "      <td>20</td>\n",
       "    </tr>\n",
       "    <tr>\n",
       "      <th>2</th>\n",
       "      <td>566</td>\n",
       "      <td>Pooja</td>\n",
       "      <td>Rao</td>\n",
       "      <td>919692747629</td>\n",
       "      <td>4.00</td>\n",
       "      <td>5.78</td>\n",
       "      <td>20</td>\n",
       "    </tr>\n",
       "    <tr>\n",
       "      <th>3</th>\n",
       "      <td>431</td>\n",
       "      <td>Vikram</td>\n",
       "      <td>Trivedi</td>\n",
       "      <td>919289900918</td>\n",
       "      <td>3.93</td>\n",
       "      <td>NaN</td>\n",
       "      <td>20</td>\n",
       "    </tr>\n",
       "    <tr>\n",
       "      <th>4</th>\n",
       "      <td>688</td>\n",
       "      <td>Rishi</td>\n",
       "      <td>Nair</td>\n",
       "      <td>918510327681</td>\n",
       "      <td>0.34</td>\n",
       "      <td>3.35</td>\n",
       "      <td>22</td>\n",
       "    </tr>\n",
       "  </tbody>\n",
       "</table>\n",
       "</div>"
      ],
      "text/plain": [
       "   Roll Number First Name Last Name  Mobile Number  CGPA1  CGPA2  age\n",
       "0          261      Rishi     Gupta   919954629666   9.92   5.06   19\n",
       "1          827      Seema     Singh   919085484267   0.22   2.83   20\n",
       "2          566      Pooja       Rao   919692747629   4.00   5.78   20\n",
       "3          431     Vikram   Trivedi   919289900918   3.93    NaN   20\n",
       "4          688      Rishi      Nair   918510327681   0.34   3.35   22"
      ]
     },
     "execution_count": 3,
     "metadata": {},
     "output_type": "execute_result"
    }
   ],
   "source": [
    "data.head()"
   ]
  },
  {
   "cell_type": "code",
   "execution_count": null,
   "id": "d512f4cf-62ec-4f2b-a816-97e28921612a",
   "metadata": {},
   "outputs": [],
   "source": [
    "# 1. Scan all variables for missing values and inconsistencies. If there are missing values and/or inconsistencies, use any of the suitable techniques to deal with them."
   ]
  },
  {
   "cell_type": "code",
   "execution_count": 5,
   "id": "06e46f5a-5518-47c9-b874-ac646a6c080b",
   "metadata": {
    "scrolled": true
   },
   "outputs": [
    {
     "data": {
      "text/plain": [
       "Roll Number      0\n",
       "First Name       0\n",
       "Last Name        0\n",
       "Mobile Number    0\n",
       "CGPA1            5\n",
       "CGPA2            3\n",
       "age              0\n",
       "dtype: int64"
      ]
     },
     "execution_count": 5,
     "metadata": {},
     "output_type": "execute_result"
    }
   ],
   "source": [
    "# Check for missing values\n",
    "\n",
    "data.isnull().sum()"
   ]
  },
  {
   "cell_type": "code",
   "execution_count": 6,
   "id": "71e80a25-aa5d-4bd4-917a-f8b9b816d654",
   "metadata": {},
   "outputs": [
    {
     "data": {
      "text/html": [
       "<div>\n",
       "<style scoped>\n",
       "    .dataframe tbody tr th:only-of-type {\n",
       "        vertical-align: middle;\n",
       "    }\n",
       "\n",
       "    .dataframe tbody tr th {\n",
       "        vertical-align: top;\n",
       "    }\n",
       "\n",
       "    .dataframe thead th {\n",
       "        text-align: right;\n",
       "    }\n",
       "</style>\n",
       "<table border=\"1\" class=\"dataframe\">\n",
       "  <thead>\n",
       "    <tr style=\"text-align: right;\">\n",
       "      <th></th>\n",
       "      <th>Roll Number</th>\n",
       "      <th>Mobile Number</th>\n",
       "      <th>CGPA1</th>\n",
       "      <th>CGPA2</th>\n",
       "      <th>age</th>\n",
       "    </tr>\n",
       "  </thead>\n",
       "  <tbody>\n",
       "    <tr>\n",
       "      <th>count</th>\n",
       "      <td>50.000000</td>\n",
       "      <td>5.000000e+01</td>\n",
       "      <td>45.000000</td>\n",
       "      <td>47.000000</td>\n",
       "      <td>50.000000</td>\n",
       "    </tr>\n",
       "    <tr>\n",
       "      <th>mean</th>\n",
       "      <td>492.440000</td>\n",
       "      <td>9.185083e+11</td>\n",
       "      <td>5.092444</td>\n",
       "      <td>4.586170</td>\n",
       "      <td>22.780000</td>\n",
       "    </tr>\n",
       "    <tr>\n",
       "      <th>std</th>\n",
       "      <td>250.705792</td>\n",
       "      <td>9.131771e+08</td>\n",
       "      <td>3.068496</td>\n",
       "      <td>2.688698</td>\n",
       "      <td>22.994489</td>\n",
       "    </tr>\n",
       "    <tr>\n",
       "      <th>min</th>\n",
       "      <td>15.000000</td>\n",
       "      <td>9.170212e+11</td>\n",
       "      <td>0.000000</td>\n",
       "      <td>0.250000</td>\n",
       "      <td>2.000000</td>\n",
       "    </tr>\n",
       "    <tr>\n",
       "      <th>25%</th>\n",
       "      <td>288.000000</td>\n",
       "      <td>9.176502e+11</td>\n",
       "      <td>2.920000</td>\n",
       "      <td>2.730000</td>\n",
       "      <td>18.000000</td>\n",
       "    </tr>\n",
       "    <tr>\n",
       "      <th>50%</th>\n",
       "      <td>527.500000</td>\n",
       "      <td>9.186161e+11</td>\n",
       "      <td>4.750000</td>\n",
       "      <td>4.080000</td>\n",
       "      <td>19.500000</td>\n",
       "    </tr>\n",
       "    <tr>\n",
       "      <th>75%</th>\n",
       "      <td>659.000000</td>\n",
       "      <td>9.192426e+11</td>\n",
       "      <td>8.110000</td>\n",
       "      <td>6.580000</td>\n",
       "      <td>22.750000</td>\n",
       "    </tr>\n",
       "    <tr>\n",
       "      <th>max</th>\n",
       "      <td>994.000000</td>\n",
       "      <td>9.199546e+11</td>\n",
       "      <td>9.920000</td>\n",
       "      <td>9.720000</td>\n",
       "      <td>180.000000</td>\n",
       "    </tr>\n",
       "  </tbody>\n",
       "</table>\n",
       "</div>"
      ],
      "text/plain": [
       "       Roll Number  Mobile Number      CGPA1      CGPA2         age\n",
       "count    50.000000   5.000000e+01  45.000000  47.000000   50.000000\n",
       "mean    492.440000   9.185083e+11   5.092444   4.586170   22.780000\n",
       "std     250.705792   9.131771e+08   3.068496   2.688698   22.994489\n",
       "min      15.000000   9.170212e+11   0.000000   0.250000    2.000000\n",
       "25%     288.000000   9.176502e+11   2.920000   2.730000   18.000000\n",
       "50%     527.500000   9.186161e+11   4.750000   4.080000   19.500000\n",
       "75%     659.000000   9.192426e+11   8.110000   6.580000   22.750000\n",
       "max     994.000000   9.199546e+11   9.920000   9.720000  180.000000"
      ]
     },
     "execution_count": 6,
     "metadata": {},
     "output_type": "execute_result"
    }
   ],
   "source": [
    "#Check for inconsistents\n",
    "\n",
    "data.describe()"
   ]
  },
  {
   "cell_type": "code",
   "execution_count": 7,
   "id": "842c1173-f2f4-4f15-ac6b-b4eee0b93250",
   "metadata": {},
   "outputs": [],
   "source": [
    "# fill missing values with the mean of the column on CGPA1 and CGPA2\n",
    "\n",
    "data['CGPA1'] = data['CGPA1'].fillna(data['CGPA1'].mean())\n",
    "data['CGPA2'] = data['CGPA2'].fillna(data['CGPA2'].mean())"
   ]
  },
  {
   "cell_type": "code",
   "execution_count": null,
   "id": "926645f0-bb4d-4a9f-9e24-6b7315997ccc",
   "metadata": {},
   "outputs": [],
   "source": [
    "# 2. Scan all numeric variables for outliers. If there are outliers, use any of the suitable techniques to deal with them."
   ]
  },
  {
   "cell_type": "code",
   "execution_count": 8,
   "id": "e0e8c666-6840-4552-beed-94ea01cb331b",
   "metadata": {},
   "outputs": [
    {
     "data": {
      "image/png": "[encoded data removed]",
      "text/plain": [
       "<Figure size 640x480 with 1 Axes>"
      ]
     },
     "metadata": {},
     "output_type": "display_data"
    }
   ],
   "source": [
    "# Check for outliers\n",
    "\n",
    "sns.boxplot(data['age'])\n",
    "plt.show()"
   ]
  },
  {
   "cell_type": "code",
   "execution_count": 9,
   "id": "9a472d4f-bad5-4212-9a68-48c28c27e556",
   "metadata": {},
   "outputs": [
    {
     "name": "stdout",
     "output_type": "stream",
     "text": [
      "Q1:  18.0\n",
      "Q3:  22.75\n",
      "IQR:  4.75\n"
     ]
    }
   ],
   "source": [
    "# look for outliers in the age column\n",
    "\n",
    "Q1 = data['age'].quantile(0.25)\n",
    "Q3 = data['age'].quantile(0.75)\n",
    "\n",
    "IQR = Q3 - Q1\n",
    "\n",
    "print(\"Q1: \", Q1)\n",
    "print(\"Q3: \", Q3)\n",
    "print(\"IQR: \", IQR)"
   ]
  },
  {
   "cell_type": "code",
   "execution_count": 10,
   "id": "cc28ada5-f3e0-4bd9-8208-dcea210fc560",
   "metadata": {},
   "outputs": [
    {
     "name": "stdout",
     "output_type": "stream",
     "text": [
      "    Roll Number First Name Last Name  Mobile Number  CGPA1  CGPA2  age\n",
      "6           532  Vaishnavi       Jha   919009969408   5.63   4.38    2\n",
      "27          722  Vaishnavi     Patel   917550452611   9.49   3.29  180\n"
     ]
    }
   ],
   "source": [
    "# print the number of outliers\n",
    "\n",
    "outliers = data[(data['age'] < (Q1 - 1.5 * IQR)) | (data['age'] > (Q3 + 1.5 * IQR))]\n",
    "print(outliers)"
   ]
  },
  {
   "cell_type": "code",
   "execution_count": 11,
   "id": "b89f16d6-1d3d-4a53-812c-6caa41427530",
   "metadata": {},
   "outputs": [
    {
     "name": "stdout",
     "output_type": "stream",
     "text": [
      "0     19\n",
      "1     20\n",
      "2     20\n",
      "3     20\n",
      "4     22\n",
      "5     19\n",
      "6     16\n",
      "7     23\n",
      "8     18\n",
      "9     24\n",
      "10    17\n",
      "11    16\n",
      "12    19\n",
      "13    22\n",
      "14    23\n",
      "15    21\n",
      "16    16\n",
      "17    25\n",
      "18    16\n",
      "19    24\n",
      "20    19\n",
      "21    18\n",
      "22    18\n",
      "23    23\n",
      "24    22\n",
      "25    23\n",
      "26    20\n",
      "27    16\n",
      "28    24\n",
      "29    16\n",
      "30    23\n",
      "31    24\n",
      "32    23\n",
      "33    18\n",
      "34    16\n",
      "35    18\n",
      "36    16\n",
      "37    22\n",
      "38    22\n",
      "39    19\n",
      "40    23\n",
      "41    19\n",
      "42    22\n",
      "43    16\n",
      "44    17\n",
      "45    22\n",
      "46    19\n",
      "47    16\n",
      "48    16\n",
      "49    19\n",
      "Name: age, dtype: int64\n"
     ]
    }
   ],
   "source": [
    "# replace outliers with the mode\n",
    "\n",
    "data['age'] = data['age'].mask(data['age'] > Q3 + 1.5 * IQR, data['age'].mode()[0])\n",
    "data['age'] = data['age'].mask(data['age'] < Q1 - 1.5 * IQR, data['age'].mode()[0])\n",
    "\n",
    "print(data['age'])"
   ]
  },
  {
   "cell_type": "code",
   "execution_count": null,
   "id": "852685eb-993a-4dfb-8dce-e068fce62579",
   "metadata": {},
   "outputs": [],
   "source": [
    "# 3. Apply data transformations on at least one of the variables. The purpose of this transformation should be one of the following reasons: to change the scale for better understanding of the variable, to convert a non-linear relation into a linear one, or to decrease the skewness and convert the distribution into a normal distribution.Reason and document your approach properly.The age column has a centered data. We can apply a log transformation to the age column to convert the distribution into a normal distribution."
   ]
  },
  {
   "cell_type": "code",
   "execution_count": 18,
   "id": "3528157b-bbce-40f3-8e48-caa6aab6f174",
   "metadata": {},
   "outputs": [
    {
     "name": "stdout",
     "output_type": "stream",
     "text": [
      "0     0.076885\n",
      "1     0.092751\n",
      "2     0.092751\n",
      "3     0.092751\n",
      "4     0.120897\n",
      "5     0.076885\n",
      "6     0.019588\n",
      "7     0.133470\n",
      "8     0.059575\n",
      "9     0.145198\n",
      "10    0.040577\n",
      "11    0.019588\n",
      "12    0.076885\n",
      "13    0.120897\n",
      "14    0.133470\n",
      "15    0.107368\n",
      "16    0.019588\n",
      "17    0.156176\n",
      "18    0.019588\n",
      "19    0.145198\n",
      "20    0.076885\n",
      "21    0.059575\n",
      "22    0.059575\n",
      "23    0.133470\n",
      "24    0.120897\n",
      "25    0.133470\n",
      "26    0.092751\n",
      "27    0.019588\n",
      "28    0.145198\n",
      "29    0.019588\n",
      "30    0.133470\n",
      "31    0.145198\n",
      "32    0.133470\n",
      "33    0.059575\n",
      "34    0.019588\n",
      "35    0.059575\n",
      "36    0.019588\n",
      "37    0.120897\n",
      "38    0.120897\n",
      "39    0.076885\n",
      "40    0.133470\n",
      "41    0.076885\n",
      "42    0.120897\n",
      "43    0.019588\n",
      "44    0.040577\n",
      "45    0.120897\n",
      "46    0.076885\n",
      "47    0.019588\n",
      "48    0.019588\n",
      "49    0.076885\n",
      "Name: age, dtype: float64\n"
     ]
    }
   ],
   "source": [
    "# log transformation\n",
    "\n",
    "data['age'] = data['age'].apply(lambda x: np.log(x) if x > 0 else 0)\n",
    "\n",
    "# display the transformed data\n",
    "\n",
    "print(data['age'])"
   ]
  },
  {
   "cell_type": "code",
   "execution_count": 17,
   "id": "cc487274-248f-49a5-a4de-c0fafe57c723",
   "metadata": {},
   "outputs": [
    {
     "data": {
      "image/png": "[encoded data removed]",
      "text/plain": [
       "<Figure size 640x480 with 1 Axes>"
      ]
     },
     "metadata": {},
     "output_type": "display_data"
    }
   ],
   "source": [
    " #show age distribution after transformation in boxplot\n",
    "\n",
    "sns.boxplot(data['age'])\n",
    "plt.show()"
   ]
  },
  {
   "cell_type": "code",
   "execution_count": null,
   "id": "4b9e3aa5-5010-4424-bc70-dc96b0aaa340",
   "metadata": {},
   "outputs": [],
   "source": []
  }
 ],
 "metadata": {
  "kernelspec": {
   "display_name": "Python 3 (ipykernel)",
   "language": "python",
   "name": "python3"
  },
  "language_info": {
   "codemirror_mode": {
    "name": "ipython",
    "version": 3
   },
   "file_extension": ".py",
   "mimetype": "text/x-python",
   "name": "python",
   "nbconvert_exporter": "python",
   "pygments_lexer": "ipython3",
   "version": "3.12.2"
  }
 },
 "nbformat": 4,
 "nbformat_minor": 5
}
